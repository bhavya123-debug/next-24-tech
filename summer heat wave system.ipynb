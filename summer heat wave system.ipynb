{
 "cells": [
  {
   "cell_type": "code",
   "execution_count": 3,
   "id": "639398ae",
   "metadata": {},
   "outputs": [
    {
     "name": "stdout",
     "output_type": "stream",
     "text": [
      "Model Accuracy: 100.00%\n",
      "Heat Wave detected!\n"
     ]
    },
    {
     "name": "stderr",
     "output_type": "stream",
     "text": [
      "C:\\Users\\bhavy\\jupyter\\Lib\\site-packages\\sklearn\\base.py:464: UserWarning: X does not have valid feature names, but RandomForestClassifier was fitted with feature names\n",
      "  warnings.warn(\n"
     ]
    },
    {
     "name": "stdout",
     "output_type": "stream",
     "text": [
      "Error sending alert: (535, b'5.7.8 Username and Password not accepted. For more information, go to\\n5.7.8  https://support.google.com/mail/?p=BadCredentials d2e1a72fcca58-71afc939068sm969079b3a.133 - gsmtp')\n"
     ]
    }
   ],
   "source": [
    "import pandas as pd\n",
    "import numpy as np\n",
    "import smtplib\n",
    "from sklearn.model_selection import train_test_split\n",
    "from sklearn.ensemble import RandomForestClassifier\n",
    "from sklearn.metrics import accuracy_score\n",
    "\n",
    "# 1. Simulate Weather Data (Date and Temperature)\n",
    "# You can replace this with real weather data from APIs like OpenWeatherMap\n",
    "data = {\n",
    "    'Date': pd.date_range(start='2023-06-01', periods=100, freq='D'),\n",
    "    'Temperature': np.random.randint(28, 45, size=100)  # Simulated temperatures\n",
    "}\n",
    "df = pd.DataFrame(data)\n",
    "\n",
    "# Define a heat wave as 3+ consecutive days where temp > 35°C\n",
    "def label_heat_wave(temps, threshold=35, consecutive_days=3):\n",
    "    \"\"\"Label the data with heat wave flag based on consecutive days exceeding threshold.\"\"\"\n",
    "    heat_wave = np.zeros_like(temps)\n",
    "    count = 0\n",
    "    for i in range(len(temps)):\n",
    "        if temps[i] > threshold:\n",
    "            count += 1\n",
    "            if count >= consecutive_days:\n",
    "                heat_wave[i] = 1\n",
    "        else:\n",
    "            count = 0\n",
    "    return heat_wave\n",
    "\n",
    "df['HeatWave'] = label_heat_wave(df['Temperature'])\n",
    "\n",
    "# 2. Prepare data for training (predict heat wave based on temperature)\n",
    "df['TempLag1'] = df['Temperature'].shift(1)\n",
    "df['TempLag2'] = df['Temperature'].shift(2)\n",
    "df = df.dropna()  # Drop rows with NaN (due to lag features)\n",
    "\n",
    "# Features and labels\n",
    "X = df[['Temperature', 'TempLag1', 'TempLag2']]\n",
    "y = df['HeatWave']\n",
    "\n",
    "# Split data into training and test sets\n",
    "X_train, X_test, y_train, y_test = train_test_split(X, y, test_size=0.2, random_state=42)\n",
    "\n",
    "# 3. Train a predictive model (Random Forest)\n",
    "model = RandomForestClassifier(n_estimators=100, random_state=42)\n",
    "model.fit(X_train, y_train)\n",
    "\n",
    "# Evaluate the model\n",
    "y_pred = model.predict(X_test)\n",
    "accuracy = accuracy_score(y_test, y_pred)\n",
    "print(f\"Model Accuracy: {accuracy * 100:.2f}%\")\n",
    "\n",
    "# 4. Send Mobile Alerts for Heat Waves (using email as an example for simplicity)\n",
    "# You can use services like Twilio or Firebase for real mobile notifications.\n",
    "\n",
    "def send_alert(email_address, subject, message):\n",
    "    \"\"\"Send an email alert (use Twilio or other services for real mobile alerts).\"\"\"\n",
    "    # Email settings (use your email and SMTP server details)\n",
    "    smtp_server = \"smtp.gmail.com\"\n",
    "    smtp_port = 587\n",
    "    sender_email = \"your_email@gmail.com\"\n",
    "    password = \"your_password\"\n",
    "\n",
    "    try:\n",
    "        # Set up the server\n",
    "        server = smtplib.SMTP(smtp_server, smtp_port)\n",
    "        server.starttls()\n",
    "        server.login(sender_email, password)\n",
    "\n",
    "        # Create the email\n",
    "        email_message = f\"Subject: {subject}\\n\\n{message}\"\n",
    "\n",
    "        # Send the email\n",
    "        server.sendmail(sender_email, email_address, email_message)\n",
    "        server.quit()\n",
    "        print(f\"Alert sent to {email_address}\")\n",
    "    except Exception as e:\n",
    "        print(f\"Error sending alert: {e}\")\n",
    "\n",
    "# 5. Simulate prediction and send alerts\n",
    "def check_for_heat_wave_and_alert(temperature_today, temperature_yesterday, temperature_two_days_ago):\n",
    "    \"\"\"Check if there is a heat wave based on the temperatures and send alerts if true.\"\"\"\n",
    "    # Use the trained model to predict\n",
    "    prediction = model.predict([[temperature_today, temperature_yesterday, temperature_two_days_ago]])\n",
    "\n",
    "    if prediction == 1:\n",
    "        print(\"Heat Wave detected!\")\n",
    "        # Example alert (use actual mobile notification service here)\n",
    "        send_alert('user_email@example.com', 'Heat Wave Alert!', 'A heat wave is expected in your area. Stay safe!')\n",
    "    else:\n",
    "        print(\"No heat wave detected.\")\n",
    "\n",
    "# Test the alert system with sample temperatures\n",
    "check_for_heat_wave_and_alert(40, 38, 36)  # Change these values to test different scenarios\n"
   ]
  },
  {
   "cell_type": "code",
   "execution_count": 4,
   "id": "fbb04bdc",
   "metadata": {},
   "outputs": [],
   "source": []
  },
  {
   "cell_type": "code",
   "execution_count": null,
   "id": "11214b29",
   "metadata": {},
   "outputs": [],
   "source": []
  },
  {
   "cell_type": "code",
   "execution_count": null,
   "id": "c1737023",
   "metadata": {},
   "outputs": [],
   "source": []
  }
 ],
 "metadata": {
  "kernelspec": {
   "display_name": "Python 3 (ipykernel)",
   "language": "python",
   "name": "python3"
  },
  "language_info": {
   "codemirror_mode": {
    "name": "ipython",
    "version": 3
   },
   "file_extension": ".py",
   "mimetype": "text/x-python",
   "name": "python",
   "nbconvert_exporter": "python",
   "pygments_lexer": "ipython3",
   "version": "3.11.5"
  }
 },
 "nbformat": 4,
 "nbformat_minor": 5
}
